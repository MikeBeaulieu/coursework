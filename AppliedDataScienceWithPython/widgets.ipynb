{
 "cells": [
  {
   "cell_type": "code",
   "execution_count": 1,
   "metadata": {
    "collapsed": true
   },
   "outputs": [],
   "source": [
    "import ipywidgets as wg\n",
    "from IPython.display import display"
   ]
  },
  {
   "cell_type": "markdown",
   "metadata": {},
   "source": [
    "### Numeric Widgets"
   ]
  },
  {
   "cell_type": "code",
   "execution_count": 2,
   "metadata": {
    "collapsed": false
   },
   "outputs": [],
   "source": [
    "f_s = wg.FloatSlider(value=5, min=0, max=10.0, step=0.001, \n",
    "                    description='FSlider: ', readout_format='.3f')\n",
    "\n",
    "i_s = wg.IntSlider(value=5, min=0, max=10.0, step=0.001, \n",
    "                  description='ISlider: ')\n",
    "\n",
    "i_rs = wg.IntRangeSlider(value=[2, 8], min=0, max=10, step=1, description='IRSlider:')\n",
    "\n",
    "f_rs = wg.FloatRangeSlider(value=[2, 8], min=0, max=10, step=0.01,  \n",
    "                           description='FRSlider:', readout_format='.2f')\n",
    "\n",
    "#----------------------\n",
    "\n",
    "i_p = wg.IntProgress(value=5,min=0,max=10,description='IProg:',\n",
    "                     bar_style='') # 'success', 'info', 'warning', 'danger' or '')\n",
    "                    \n",
    "f_p = wg.FloatProgress(value=7,min=0,max=10,step=0.1,description='FProg:',\n",
    "                       bar_style='') # 'success', 'info', 'warning', 'danger' or '')\n",
    "\n",
    "#---------------------\n",
    "\n",
    "i_t  = wg.IntText(value=5, description='int text: ')\n",
    "\n",
    "f_t  = wg.FloatText(value=5.5, step=0.1, description='float text: ')\n",
    "\n",
    "b_it = wg.BoundedIntText(value=5,min=0,max=10,description='bounded int:')\n",
    "\n",
    "b_ft = wg.BoundedFloatText(value=5,min=0,max=10,step=0.001, description='bounded float:')\n",
    "\n",
    "\n",
    "######################\n",
    "\n",
    "\n",
    "display(f_s, i_s, i_rs, f_rs, \n",
    "        i_p, f_p,\n",
    "        i_t, f_t, b_it, b_ft)\n"
   ]
  },
  {
   "cell_type": "markdown",
   "metadata": {},
   "source": [
    "### Get the values\n",
    "\n",
    "Adjust the above sliders or boxes and then run the cell below. Then adjust, and run. The values are updated without rerunning the above cell."
   ]
  },
  {
   "cell_type": "code",
   "execution_count": 3,
   "metadata": {
    "collapsed": false
   },
   "outputs": [
    {
     "name": "stdout",
     "output_type": "stream",
     "text": [
      "value of the FSlider: 5.345\n",
      "value of the float text: 5.5\n"
     ]
    }
   ],
   "source": [
    "y = f_s.value\n",
    "z = f_t.value\n",
    "\n",
    "print(\"value of the FSlider:\", y)\n",
    "print(\"value of the float text:\", z)"
   ]
  },
  {
   "cell_type": "markdown",
   "metadata": {},
   "source": [
    "### Boolean Widgets"
   ]
  },
  {
   "cell_type": "code",
   "execution_count": 4,
   "metadata": {
    "collapsed": false
   },
   "outputs": [],
   "source": [
    "t_b = wg.ToggleButton(value=False, description='toggle button: ', \n",
    "                      button_style='info') # 'success', 'info', 'warning', 'danger', or ''\n",
    "\n",
    "c_b = wg.Checkbox(value=True, description='check box')\n",
    "\n",
    "v   = wg.Valid(value=False, description='Valid!')  \n",
    "\n",
    "\n",
    "######################\n",
    "\n",
    "\n",
    "display(t_b, c_b, v)"
   ]
  },
  {
   "cell_type": "markdown",
   "metadata": {},
   "source": [
    "### Selection Widgets"
   ]
  },
  {
   "cell_type": "code",
   "execution_count": 5,
   "metadata": {
    "collapsed": false
   },
   "outputs": [],
   "source": [
    "dd1 = wg.Dropdown(options=['1','2','3','4'], value='2', \n",
    "                  description='Dropbox',\n",
    "                  button_style='')\n",
    "\n",
    "dd2 = wg.Dropdown(options={'cat':1,'dog':2,'pig':3}, value=2,\n",
    "                  description='Dropbox',\n",
    "                  button_style='')\n",
    "\n",
    "radio = wg.RadioButtons(options=['car', 'bike', 'run', 'motorcycle', 'longboard'],\n",
    "                        value='run', description='radioButt')\n",
    "\n",
    "sel = wg.Select(options=['atari', 'nintendo', 'sega', 'PS', 'Xbox'], value='atari',\n",
    "                description='Select')\n",
    "\n",
    "sel_sdr = wg.SelectionSlider(options=['pancakes', 'plita', 'crepes', 'waffles'],\n",
    "                             value = 'plita', description='sel_sldr')\n",
    "\n",
    "tog = wg.ToggleButtons(options=['low', 'med', 'high', 'scary'],\n",
    "                       description='ToggleB',\n",
    "                       button_style='', # 'success', 'info', 'warning', 'danger' or ''\n",
    "                       tooltip='Description')\n",
    "\n",
    "sel_m = wg.SelectMultiple(options=['carrots', 'peas', 'brocc', 'spinach'],\n",
    "                          value=['carrots', 'brocc'],\n",
    "                          description='select several', disabled=False)\n",
    "\n",
    "\n",
    "#######################\n",
    "\n",
    "display(dd1, dd2, radio, sel, sel_sdr, tog, sel_m)"
   ]
  },
  {
   "cell_type": "code",
   "execution_count": 12,
   "metadata": {
    "collapsed": false
   },
   "outputs": [
    {
     "name": "stdout",
     "output_type": "stream",
     "text": [
      "bike\n"
     ]
    }
   ],
   "source": [
    "my_radio_selection = radio.value\n",
    "print(my_radio_selection)"
   ]
  },
  {
   "cell_type": "markdown",
   "metadata": {},
   "source": [
    "### String Widgets"
   ]
  },
  {
   "cell_type": "code",
   "execution_count": 7,
   "metadata": {
    "collapsed": false
   },
   "outputs": [
    {
     "ename": "FileNotFoundError",
     "evalue": "[Errno 2] No such file or directory: 'byulogo2.gif'",
     "output_type": "error",
     "traceback": [
      "\u001b[0;31m---------------------------------------------------------------------------\u001b[0m",
      "\u001b[0;31mFileNotFoundError\u001b[0m                         Traceback (most recent call last)",
      "\u001b[0;32m<ipython-input-7-a29ec36e8705>\u001b[0m in \u001b[0;36m<module>\u001b[0;34m()\u001b[0m\n\u001b[1;32m     11\u001b[0m \u001b[1;33m\u001b[0m\u001b[0m\n\u001b[1;32m     12\u001b[0m \u001b[1;33m\u001b[0m\u001b[0m\n\u001b[0;32m---> 13\u001b[0;31m \u001b[0mfile\u001b[0m \u001b[1;33m=\u001b[0m \u001b[0mopen\u001b[0m\u001b[1;33m(\u001b[0m\u001b[1;34m\"byulogo2.gif\"\u001b[0m\u001b[1;33m,\u001b[0m \u001b[1;34m\"rb\"\u001b[0m\u001b[1;33m)\u001b[0m\u001b[1;33m\u001b[0m\u001b[0m\n\u001b[0m\u001b[1;32m     14\u001b[0m \u001b[0mimage\u001b[0m \u001b[1;33m=\u001b[0m \u001b[0mfile\u001b[0m\u001b[1;33m.\u001b[0m\u001b[0mread\u001b[0m\u001b[1;33m(\u001b[0m\u001b[1;33m)\u001b[0m\u001b[1;33m\u001b[0m\u001b[0m\n\u001b[1;32m     15\u001b[0m \u001b[0mimg\u001b[0m \u001b[1;33m=\u001b[0m \u001b[0mwg\u001b[0m\u001b[1;33m.\u001b[0m\u001b[0mImage\u001b[0m\u001b[1;33m(\u001b[0m\u001b[0mvalue\u001b[0m\u001b[1;33m=\u001b[0m\u001b[0mimage\u001b[0m\u001b[1;33m,\u001b[0m \u001b[0mformat\u001b[0m\u001b[1;33m=\u001b[0m\u001b[1;34m'gif'\u001b[0m\u001b[1;33m,\u001b[0m \u001b[0mwidth\u001b[0m\u001b[1;33m=\u001b[0m\u001b[1;36m200\u001b[0m\u001b[1;33m,\u001b[0m \u001b[0mheight\u001b[0m\u001b[1;33m=\u001b[0m\u001b[1;36m200\u001b[0m\u001b[1;33m)\u001b[0m\u001b[1;33m\u001b[0m\u001b[0m\n",
      "\u001b[0;31mFileNotFoundError\u001b[0m: [Errno 2] No such file or directory: 'byulogo2.gif'"
     ]
    }
   ],
   "source": [
    "txt = wg.Text(placeholder='Enter something', description='textBox')\n",
    "\n",
    "ta  = wg.Textarea(placeholder='Enter something', description='textArea')\n",
    "\n",
    "lab = wg.Label(value=\"Here is some equation label: $$\\\\frac{n!}{k!(n-k)!} = \\\\binom{n}{k}$$\",\n",
    "               placeholder='Some LaTeX', description='Some LaTeX', disabled=False )\n",
    "\n",
    "html = wg.HTML(value=\"An HTML formatted <b>Label:</b> cool!\",\n",
    "               placeholder='Some HTML',description='Some HTML',\n",
    "               disabled=False )\n",
    "\n",
    "\n",
    "file = open(\"byulogo2.gif\", \"rb\")\n",
    "image = file.read()\n",
    "img = wg.Image(value=image, format='gif', width=200, height=200)\n",
    "\n",
    "\n",
    "butt = wg.Button(description='Click me',\n",
    "                 button_style='') # 'success', 'info', 'warning', 'danger' or ''\n",
    "\n",
    "\n",
    "play = wg.Play(\n",
    "#     interval=10,\n",
    "    value=50,\n",
    "    min=0,\n",
    "    max=100,\n",
    "    step=1,\n",
    "    description=\"Press play\",\n",
    "    disabled=False\n",
    ")\n",
    "slider = wg.IntSlider()\n",
    "wg.jslink((play, 'value'), (slider, 'value'))\n",
    "wg.HBox([play, slider])\n",
    "\n",
    "\n",
    "cp = wg.ColorPicker(concise=False, description='Pick color', value='blue')\n",
    "\n",
    "cont = wg.Controller(index=0)\n",
    "\n",
    "#########################\n",
    "\n",
    "\n",
    "display(txt, ta, lab, html, butt, img, play, cp, cont)"
   ]
  },
  {
   "cell_type": "markdown",
   "metadata": {},
   "source": [
    "### Layout Widgets"
   ]
  },
  {
   "cell_type": "code",
   "execution_count": 8,
   "metadata": {
    "collapsed": false
   },
   "outputs": [],
   "source": [
    "items = [wg.Label(str(i)) for i in range(10)]\n",
    "hbox  = wg.HBox(items)\n",
    "\n",
    "items = [wg.Label(str(i)) for i in range(4)]\n",
    "vbox  = wg.HBox([wg.VBox([items[0], items[1]]), wg.VBox([items[2], items[3]])])\n",
    "\n",
    "\n",
    "#######################\n",
    "\n",
    "display(hbox, vbox)"
   ]
  },
  {
   "cell_type": "code",
   "execution_count": 9,
   "metadata": {
    "collapsed": false
   },
   "outputs": [],
   "source": [
    "accordion = wg.Accordion(children=[wg.IntSlider(), wg.Text()])\n",
    "accordion.set_title(0, 'Slider')\n",
    "accordion.set_title(1, 'Text')\n",
    "accordion"
   ]
  },
  {
   "cell_type": "code",
   "execution_count": 10,
   "metadata": {
    "collapsed": true
   },
   "outputs": [],
   "source": [
    "list = ['P0', 'P1', 'P2', 'P3', 'P4']\n",
    "children = [wg.Text(description=name) for name in list]\n",
    "tab = wg.Tab(children=children)\n",
    "tab"
   ]
  },
  {
   "cell_type": "code",
   "execution_count": null,
   "metadata": {
    "collapsed": true
   },
   "outputs": [],
   "source": []
  },
  {
   "cell_type": "code",
   "execution_count": null,
   "metadata": {
    "collapsed": true
   },
   "outputs": [],
   "source": []
  },
  {
   "cell_type": "code",
   "execution_count": null,
   "metadata": {
    "collapsed": true
   },
   "outputs": [],
   "source": []
  },
  {
   "cell_type": "code",
   "execution_count": null,
   "metadata": {
    "collapsed": true
   },
   "outputs": [],
   "source": []
  }
 ],
 "metadata": {
  "kernelspec": {
   "display_name": "Python 3",
   "language": "python",
   "name": "python3"
  },
  "language_info": {
   "codemirror_mode": {
    "name": "ipython",
    "version": 3
   },
   "file_extension": ".py",
   "mimetype": "text/x-python",
   "name": "python",
   "nbconvert_exporter": "python",
   "pygments_lexer": "ipython3",
   "version": "3.6.0"
  },
  "widgets": {
   "state": {
    "035159e7f9f8465da0ac16c10767a086": {
     "views": [
      {
       "cell_index": 8
      }
     ]
    },
    "1d3c39674e33479d9c3a477da4ae8f44": {
     "views": [
      {
       "cell_index": 2
      }
     ]
    },
    "1f1b3f70862e4229889825ba0f502ef3": {
     "views": [
      {
       "cell_index": 2
      }
     ]
    },
    "40f673e72a104a179ff2f4e8cca52b6f": {
     "views": [
      {
       "cell_index": 2
      }
     ]
    },
    "4904335ec33746238acf6df4f8b7d226": {
     "views": [
      {
       "cell_index": 2
      }
     ]
    },
    "4cf7093668b4439ca0c64a4086e73d89": {
     "views": [
      {
       "cell_index": 8
      }
     ]
    },
    "5288a5ed09834fbf8e301e0b5257b5a6": {
     "views": [
      {
       "cell_index": 6
      }
     ]
    },
    "572f59b2d41c40d181cacf3f109c1451": {
     "views": [
      {
       "cell_index": 14
      }
     ]
    },
    "6fa5037c2d22475da3434387460b329a": {
     "views": [
      {
       "cell_index": 2
      }
     ]
    },
    "78c6f881a9054ee5a7272aec9063fcbc": {
     "views": [
      {
       "cell_index": 6
      }
     ]
    },
    "7b1dc33a90b64acd8fabef48424c2df1": {
     "views": [
      {
       "cell_index": 2
      }
     ]
    },
    "85403218dabe4bb8b52f955439d6e487": {
     "views": [
      {
       "cell_index": 13
      }
     ]
    },
    "87b7088d785c4a8fbb23929246fe2b54": {
     "views": [
      {
       "cell_index": 13
      }
     ]
    },
    "8eb257c8eabe43529ee393b581930075": {
     "views": [
      {
       "cell_index": 2
      }
     ]
    },
    "9048f5be40e54364bd36b1dbf83595ca": {
     "views": [
      {
       "cell_index": 8
      }
     ]
    },
    "9091875d19514ab9ad8b06e253ab1925": {
     "views": [
      {
       "cell_index": 6
      }
     ]
    },
    "afae2cdb8358420f8685ab3fffdd6456": {
     "views": [
      {
       "cell_index": 8
      }
     ]
    },
    "b2914b2f3d2245c1bd480919a1a7b53d": {
     "views": [
      {
       "cell_index": 8
      }
     ]
    },
    "b3ad67647bfa4478be553dabeeb0b91c": {
     "views": [
      {
       "cell_index": 15
      }
     ]
    },
    "b9a042b155fe4a4ca669d766d936f9ac": {
     "views": [
      {
       "cell_index": 2
      }
     ]
    },
    "c3b742b047174476b4358c4e1d1f97f5": {
     "views": [
      {
       "cell_index": 8
      }
     ]
    },
    "dadf2a7786a24070a5f764e3ff209967": {
     "views": [
      {
       "cell_index": 2
      }
     ]
    },
    "e62b4001f2ab4263a4ff4b875c30d04b": {
     "views": [
      {
       "cell_index": 2
      }
     ]
    },
    "fa8c622f703149aa912633ec906ada62": {
     "views": [
      {
       "cell_index": 8
      }
     ]
    }
   },
   "version": "1.2.0"
  }
 },
 "nbformat": 4,
 "nbformat_minor": 0
}
